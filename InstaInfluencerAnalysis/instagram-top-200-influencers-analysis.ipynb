{
 "cells": [
  {
   "cell_type": "markdown",
   "id": "359c19a4",
   "metadata": {
    "papermill": {
     "duration": 0.006039,
     "end_time": "2023-03-15T18:50:13.849985",
     "exception": false,
     "start_time": "2023-03-15T18:50:13.843946",
     "status": "completed"
    },
    "tags": []
   },
   "source": [
    "# INSTAGRAM TOP 200 INFLUENCERS\n",
    "\n",
    "### Introduction\n",
    "\n",
    "Instagram has become a major social media platform with over one billion active users. As such, it has become an essential tool for businesses and individuals looking to market their products and services. One way to utilize the platform effectively is by working with top influencers. These individuals have a large following and can help promote products to a vast audience. In this analysis, we will explore the top four influencers on Instagram, examine their profiles, and identify the key factors contributing to their success.\n",
    "\n",
    "### Goal\n",
    "This analysis aims to provide insights into the top 200 influencers on Instagram by identifying the most popular categories and channels. By examining the data, we hope to gain a deeper understanding of what makes these influencers successful and what strategies they use to engage with their audiences. Through this analysis, we hope to provide valuable information for individuals and businesses looking to utilize Instagram as a marketing tool.\n",
    "\n",
    "### Brief\n",
    "The dataset we are analyzing includes information on the top 200 Instagram influencers, including their rank, name, channel information, category, posts, followers, average likes, engagement rate. The data can provide valuable insights into the most popular categories and channels on Instagram, as well as the factors that contribute to high engagement rates and follower counts.\n",
    "\n",
    "\n",
    "------------------------------------------------------------------------------------------"
   ]
  },
  {
   "cell_type": "markdown",
   "id": "60d1a30d",
   "metadata": {
    "papermill": {
     "duration": 0.005953,
     "end_time": "2023-03-15T18:50:13.862034",
     "exception": false,
     "start_time": "2023-03-15T18:50:13.856081",
     "status": "completed"
    },
    "tags": []
   },
   "source": [
    "### Getting started\n",
    "\n",
    "For the purpose of this analysis, we will use the following Python libraries:\n",
    "\n",
    "*Pandas is a Python library for data manipulation and analysis, allowing for the handling of various data formats and manipulation through data frames.*\n",
    "\n",
    "*Matplotlib is a data visualization library used for creating different types of charts and plots, with high customization options.*\n",
    "\n",
    "*Seaborn is a data visualization library built on Matplotlib that provides a high-level interface for creating informative and attractive statistical graphics, useful for visualizing patterns, relationships, and trends in the data.*"
   ]
  },
  {
   "cell_type": "code",
   "execution_count": 4,
   "id": "54153016",
   "metadata": {
    "execution": {
     "iopub.execute_input": "2023-03-15T18:50:13.876807Z",
     "iopub.status.busy": "2023-03-15T18:50:13.876177Z",
     "iopub.status.idle": "2023-03-15T18:50:14.941258Z",
     "shell.execute_reply": "2023-03-15T18:50:14.939934Z"
    },
    "papermill": {
     "duration": 1.076506,
     "end_time": "2023-03-15T18:50:14.944742",
     "exception": false,
     "start_time": "2023-03-15T18:50:13.868236",
     "status": "completed"
    },
    "tags": []
   },
   "outputs": [],
   "source": [
    "import pandas as pd\n",
    "import matplotlib.pyplot as plt\n",
    "import matplotlib.ticker as ticker\n",
    "import seaborn as sns\n"
   ]
  },
  {
   "cell_type": "code",
   "execution_count": 5,
   "id": "bffad0a4",
   "metadata": {
    "execution": {
     "iopub.execute_input": "2023-03-15T18:50:14.960866Z",
     "iopub.status.busy": "2023-03-15T18:50:14.960189Z",
     "iopub.status.idle": "2023-03-15T18:50:14.965026Z",
     "shell.execute_reply": "2023-03-15T18:50:14.963677Z"
    },
    "papermill": {
     "duration": 0.015617,
     "end_time": "2023-03-15T18:50:14.967734",
     "exception": false,
     "start_time": "2023-03-15T18:50:14.952117",
     "status": "completed"
    },
    "tags": []
   },
   "outputs": [],
   "source": [
    "def printBold(strTxt):\n",
    "    print('\\n \\033[1m ' + strTxt + ' \\n')"
   ]
  },
  {
   "cell_type": "markdown",
   "id": "1e7dbd60",
   "metadata": {
    "papermill": {
     "duration": 0.006734,
     "end_time": "2023-03-15T18:50:14.981070",
     "exception": false,
     "start_time": "2023-03-15T18:50:14.974336",
     "status": "completed"
    },
    "tags": []
   },
   "source": [
    "### *Preparing Data for Analysis*\n",
    "This section involves cleaning, organizing, and transforming data to ensure its accuracy, consistency, and relevance for analysis. The goal is to avoid errors and to make sure that the analysis is based on reliable data."
   ]
  },
  {
   "cell_type": "code",
   "execution_count": 8,
   "id": "33c0d4bc",
   "metadata": {
    "execution": {
     "iopub.execute_input": "2023-03-15T18:50:14.996062Z",
     "iopub.status.busy": "2023-03-15T18:50:14.995699Z",
     "iopub.status.idle": "2023-03-15T18:50:15.048475Z",
     "shell.execute_reply": "2023-03-15T18:50:15.047753Z"
    },
    "papermill": {
     "duration": 0.063212,
     "end_time": "2023-03-15T18:50:15.050897",
     "exception": false,
     "start_time": "2023-03-15T18:50:14.987685",
     "status": "completed"
    },
    "tags": []
   },
   "outputs": [
    {
     "data": {
      "text/html": [
       "<div>\n",
       "<style scoped>\n",
       "    .dataframe tbody tr th:only-of-type {\n",
       "        vertical-align: middle;\n",
       "    }\n",
       "\n",
       "    .dataframe tbody tr th {\n",
       "        vertical-align: top;\n",
       "    }\n",
       "\n",
       "    .dataframe thead th {\n",
       "        text-align: right;\n",
       "    }\n",
       "</style>\n",
       "<table border=\"1\" class=\"dataframe\">\n",
       "  <thead>\n",
       "    <tr style=\"text-align: right;\">\n",
       "      <th></th>\n",
       "      <th>rank</th>\n",
       "      <th>name</th>\n",
       "      <th>channel_Info</th>\n",
       "      <th>Category</th>\n",
       "      <th>Posts</th>\n",
       "      <th>Followers</th>\n",
       "      <th>Avg. Likes</th>\n",
       "      <th>Eng Rate</th>\n",
       "      <th>Count</th>\n",
       "    </tr>\n",
       "  </thead>\n",
       "  <tbody>\n",
       "    <tr>\n",
       "      <th>0</th>\n",
       "      <td>1</td>\n",
       "      <td>instagram</td>\n",
       "      <td>brand</td>\n",
       "      <td>photography</td>\n",
       "      <td>7.3K</td>\n",
       "      <td>580.1M</td>\n",
       "      <td>7.31K</td>\n",
       "      <td>0.1%</td>\n",
       "      <td>1</td>\n",
       "    </tr>\n",
       "    <tr>\n",
       "      <th>1</th>\n",
       "      <td>2</td>\n",
       "      <td>cristiano</td>\n",
       "      <td>male</td>\n",
       "      <td>Health, Sports &amp; Fitness</td>\n",
       "      <td>3.4K</td>\n",
       "      <td>519.9M</td>\n",
       "      <td>3.41K</td>\n",
       "      <td>1.4%</td>\n",
       "      <td>1</td>\n",
       "    </tr>\n",
       "    <tr>\n",
       "      <th>2</th>\n",
       "      <td>3</td>\n",
       "      <td>leomessi</td>\n",
       "      <td>male</td>\n",
       "      <td>Health, Sports &amp; Fitness</td>\n",
       "      <td>1K</td>\n",
       "      <td>403.7M</td>\n",
       "      <td>0.97K</td>\n",
       "      <td>1.7%</td>\n",
       "      <td>1</td>\n",
       "    </tr>\n",
       "    <tr>\n",
       "      <th>3</th>\n",
       "      <td>4</td>\n",
       "      <td>kyliejenner</td>\n",
       "      <td>female</td>\n",
       "      <td>entertainment</td>\n",
       "      <td>7K</td>\n",
       "      <td>375.9M</td>\n",
       "      <td>7.02K</td>\n",
       "      <td>1.7%</td>\n",
       "      <td>1</td>\n",
       "    </tr>\n",
       "    <tr>\n",
       "      <th>4</th>\n",
       "      <td>5</td>\n",
       "      <td>selenagomez</td>\n",
       "      <td>female</td>\n",
       "      <td>entertainment</td>\n",
       "      <td>1.8K</td>\n",
       "      <td>365.3M</td>\n",
       "      <td>1.85K</td>\n",
       "      <td>1.1%</td>\n",
       "      <td>1</td>\n",
       "    </tr>\n",
       "    <tr>\n",
       "      <th>...</th>\n",
       "      <td>...</td>\n",
       "      <td>...</td>\n",
       "      <td>...</td>\n",
       "      <td>...</td>\n",
       "      <td>...</td>\n",
       "      <td>...</td>\n",
       "      <td>...</td>\n",
       "      <td>...</td>\n",
       "      <td>...</td>\n",
       "    </tr>\n",
       "    <tr>\n",
       "      <th>195</th>\n",
       "      <td>196</td>\n",
       "      <td>fcbayern</td>\n",
       "      <td>male</td>\n",
       "      <td>Health, Sports &amp; Fitness</td>\n",
       "      <td>16.8K</td>\n",
       "      <td>35.4M</td>\n",
       "      <td>16.78K</td>\n",
       "      <td>0.6%</td>\n",
       "      <td>1</td>\n",
       "    </tr>\n",
       "    <tr>\n",
       "      <th>196</th>\n",
       "      <td>197</td>\n",
       "      <td>colesprouse</td>\n",
       "      <td>male</td>\n",
       "      <td>entertainment</td>\n",
       "      <td>1.1K</td>\n",
       "      <td>35.3M</td>\n",
       "      <td>1.14K</td>\n",
       "      <td>3.5%</td>\n",
       "      <td>1</td>\n",
       "    </tr>\n",
       "    <tr>\n",
       "      <th>197</th>\n",
       "      <td>198</td>\n",
       "      <td>shaymitchell</td>\n",
       "      <td>male</td>\n",
       "      <td>entertainment</td>\n",
       "      <td>6.3K</td>\n",
       "      <td>35.1M</td>\n",
       "      <td>6.31K</td>\n",
       "      <td>1.2%</td>\n",
       "      <td>1</td>\n",
       "    </tr>\n",
       "    <tr>\n",
       "      <th>198</th>\n",
       "      <td>199</td>\n",
       "      <td>ivetesangalo</td>\n",
       "      <td>female</td>\n",
       "      <td>entertainment</td>\n",
       "      <td>7.8K</td>\n",
       "      <td>35M</td>\n",
       "      <td>7.77K</td>\n",
       "      <td>0.4%</td>\n",
       "      <td>1</td>\n",
       "    </tr>\n",
       "    <tr>\n",
       "      <th>199</th>\n",
       "      <td>200</td>\n",
       "      <td>paollaoliveirareal</td>\n",
       "      <td>female</td>\n",
       "      <td>entertainment</td>\n",
       "      <td>4.8K</td>\n",
       "      <td>34.9M</td>\n",
       "      <td>4.78K</td>\n",
       "      <td>0.7%</td>\n",
       "      <td>1</td>\n",
       "    </tr>\n",
       "  </tbody>\n",
       "</table>\n",
       "<p>200 rows × 9 columns</p>\n",
       "</div>"
      ],
      "text/plain": [
       "     rank                name channel_Info                  Category  Posts   \n",
       "0       1           instagram        brand               photography   7.3K  \\\n",
       "1       2           cristiano         male  Health, Sports & Fitness   3.4K   \n",
       "2       3            leomessi         male  Health, Sports & Fitness     1K   \n",
       "3       4         kyliejenner       female             entertainment     7K   \n",
       "4       5         selenagomez       female             entertainment   1.8K   \n",
       "..    ...                 ...          ...                       ...    ...   \n",
       "195   196            fcbayern         male  Health, Sports & Fitness  16.8K   \n",
       "196   197         colesprouse         male             entertainment   1.1K   \n",
       "197   198        shaymitchell         male             entertainment   6.3K   \n",
       "198   199        ivetesangalo       female             entertainment   7.8K   \n",
       "199   200  paollaoliveirareal       female             entertainment   4.8K   \n",
       "\n",
       "    Followers Avg. Likes Eng Rate  Count  \n",
       "0      580.1M      7.31K     0.1%      1  \n",
       "1      519.9M      3.41K     1.4%      1  \n",
       "2      403.7M      0.97K     1.7%      1  \n",
       "3      375.9M      7.02K     1.7%      1  \n",
       "4      365.3M      1.85K     1.1%      1  \n",
       "..        ...        ...      ...    ...  \n",
       "195     35.4M     16.78K     0.6%      1  \n",
       "196     35.3M      1.14K     3.5%      1  \n",
       "197     35.1M      6.31K     1.2%      1  \n",
       "198       35M      7.77K     0.4%      1  \n",
       "199     34.9M      4.78K     0.7%      1  \n",
       "\n",
       "[200 rows x 9 columns]"
      ]
     },
     "execution_count": 8,
     "metadata": {},
     "output_type": "execute_result"
    }
   ],
   "source": [
    "#reading data\n",
    "df = pd.read_csv('data.csv')\n",
    "df['Count'] = 1\n",
    "df"
   ]
  },
  {
   "cell_type": "code",
   "execution_count": 9,
   "id": "7bb09e55",
   "metadata": {
    "execution": {
     "iopub.execute_input": "2023-03-15T18:50:15.067295Z",
     "iopub.status.busy": "2023-03-15T18:50:15.066762Z",
     "iopub.status.idle": "2023-03-15T18:50:15.085172Z",
     "shell.execute_reply": "2023-03-15T18:50:15.084305Z"
    },
    "papermill": {
     "duration": 0.030556,
     "end_time": "2023-03-15T18:50:15.088187",
     "exception": false,
     "start_time": "2023-03-15T18:50:15.057631",
     "status": "completed"
    },
    "tags": []
   },
   "outputs": [
    {
     "name": "stdout",
     "output_type": "stream",
     "text": [
      "<class 'pandas.core.frame.DataFrame'>\n",
      "RangeIndex: 200 entries, 0 to 199\n",
      "Data columns (total 9 columns):\n",
      " #   Column        Non-Null Count  Dtype \n",
      "---  ------        --------------  ----- \n",
      " 0   rank          200 non-null    int64 \n",
      " 1   name          200 non-null    object\n",
      " 2   channel_Info  195 non-null    object\n",
      " 3   Category      193 non-null    object\n",
      " 4   Posts         200 non-null    object\n",
      " 5   Followers     200 non-null    object\n",
      " 6   Avg. Likes    200 non-null    object\n",
      " 7   Eng Rate      200 non-null    object\n",
      " 8   Count         200 non-null    int64 \n",
      "dtypes: int64(2), object(7)\n",
      "memory usage: 14.2+ KB\n"
     ]
    }
   ],
   "source": [
    "#checking data type\n",
    "df.info()"
   ]
  },
  {
   "cell_type": "code",
   "execution_count": 10,
   "id": "3d18dded",
   "metadata": {
    "execution": {
     "iopub.execute_input": "2023-03-15T18:50:15.104827Z",
     "iopub.status.busy": "2023-03-15T18:50:15.104486Z",
     "iopub.status.idle": "2023-03-15T18:50:15.123982Z",
     "shell.execute_reply": "2023-03-15T18:50:15.122302Z"
    },
    "papermill": {
     "duration": 0.030458,
     "end_time": "2023-03-15T18:50:15.126230",
     "exception": false,
     "start_time": "2023-03-15T18:50:15.095772",
     "status": "completed"
    },
    "tags": []
   },
   "outputs": [
    {
     "name": "stdout",
     "output_type": "stream",
     "text": [
      "<class 'pandas.core.frame.DataFrame'>\n",
      "RangeIndex: 200 entries, 0 to 199\n",
      "Data columns (total 9 columns):\n",
      " #   Column        Non-Null Count  Dtype  \n",
      "---  ------        --------------  -----  \n",
      " 0   rank          200 non-null    int64  \n",
      " 1   name          200 non-null    object \n",
      " 2   channel_Info  195 non-null    object \n",
      " 3   Category      193 non-null    object \n",
      " 4   Posts         200 non-null    float64\n",
      " 5   Followers     200 non-null    float64\n",
      " 6   Avg. Likes    200 non-null    float64\n",
      " 7   Eng Rate      200 non-null    float64\n",
      " 8   Count         200 non-null    int64  \n",
      "dtypes: float64(4), int64(2), object(3)\n",
      "memory usage: 14.2+ KB\n"
     ]
    }
   ],
   "source": [
    "#converting object data types to proper format\n",
    "def convert_to_numeric(x):\n",
    "    if isinstance(x, str):\n",
    "        if x.endswith('K'):\n",
    "            return float(x[:-1]) * 1000\n",
    "        elif x.endswith('M'):\n",
    "            return float(x[:-1]) * 1000000\n",
    "        elif x.endswith('%'):\n",
    "            return float(x[:-1]) / 100\n",
    "        else:\n",
    "            return pd.to_numeric(x, errors='coerce')\n",
    "    else:\n",
    "        return x\n",
    "    \n",
    "df['Posts'] = df['Posts'].apply(convert_to_numeric)\n",
    "df['Followers'] = df['Followers'].apply(convert_to_numeric)\n",
    "df['Avg. Likes'] = df['Avg. Likes'].apply(convert_to_numeric)\n",
    "df['Eng Rate'] = df['Eng Rate'].apply(convert_to_numeric)\n",
    "\n",
    "df.info()"
   ]
  },
  {
   "cell_type": "code",
   "execution_count": 11,
   "id": "53e163e0",
   "metadata": {
    "execution": {
     "iopub.execute_input": "2023-03-15T18:50:15.141431Z",
     "iopub.status.busy": "2023-03-15T18:50:15.141086Z",
     "iopub.status.idle": "2023-03-15T18:50:15.151855Z",
     "shell.execute_reply": "2023-03-15T18:50:15.150933Z"
    },
    "papermill": {
     "duration": 0.020834,
     "end_time": "2023-03-15T18:50:15.153993",
     "exception": false,
     "start_time": "2023-03-15T18:50:15.133159",
     "status": "completed"
    },
    "tags": []
   },
   "outputs": [
    {
     "data": {
      "text/plain": [
       "0"
      ]
     },
     "execution_count": 11,
     "metadata": {},
     "output_type": "execute_result"
    }
   ],
   "source": [
    "#finding duplicates\n",
    "df.duplicated().sum()"
   ]
  },
  {
   "cell_type": "code",
   "execution_count": 12,
   "id": "6a3cb84b",
   "metadata": {
    "execution": {
     "iopub.execute_input": "2023-03-15T18:50:15.169981Z",
     "iopub.status.busy": "2023-03-15T18:50:15.169615Z",
     "iopub.status.idle": "2023-03-15T18:50:15.180970Z",
     "shell.execute_reply": "2023-03-15T18:50:15.179564Z"
    },
    "papermill": {
     "duration": 0.022045,
     "end_time": "2023-03-15T18:50:15.183361",
     "exception": false,
     "start_time": "2023-03-15T18:50:15.161316",
     "status": "completed"
    },
    "tags": []
   },
   "outputs": [
    {
     "data": {
      "text/plain": [
       "rank            0\n",
       "name            0\n",
       "channel_Info    0\n",
       "Category        0\n",
       "Posts           0\n",
       "Followers       0\n",
       "Avg. Likes      0\n",
       "Eng Rate        0\n",
       "Count           0\n",
       "dtype: int64"
      ]
     },
     "execution_count": 12,
     "metadata": {},
     "output_type": "execute_result"
    }
   ],
   "source": [
    "#updating null in channel info and category with 'misc'\n",
    "df['Category'] = df['Category'].fillna('misc')\n",
    "df['channel_Info'] = df['channel_Info'].fillna('misc')\n",
    "\n",
    "#verifying updates\n",
    "df.isnull().sum()"
   ]
  },
  {
   "cell_type": "markdown",
   "id": "4d5dd027",
   "metadata": {
    "papermill": {
     "duration": 0.007386,
     "end_time": "2023-03-15T18:50:15.198141",
     "exception": false,
     "start_time": "2023-03-15T18:50:15.190755",
     "status": "completed"
    },
    "tags": []
   },
   "source": [
    "### *Grouping and Aggregating Data*\n",
    "In this section, we're going to group our data based on common attributes and summarize them using statistical functions. This will help us identify patterns and trends that we might not be able to see otherwise. By grouping and aggregating data, we can get a better understanding of our data and make more informed decisions based on it."
   ]
  },
  {
   "cell_type": "code",
   "execution_count": 14,
   "id": "63f2d8e2",
   "metadata": {
    "execution": {
     "iopub.execute_input": "2023-03-15T18:50:15.213947Z",
     "iopub.status.busy": "2023-03-15T18:50:15.213627Z",
     "iopub.status.idle": "2023-03-15T18:50:15.219827Z",
     "shell.execute_reply": "2023-03-15T18:50:15.218533Z"
    },
    "papermill": {
     "duration": 0.016999,
     "end_time": "2023-03-15T18:50:15.222250",
     "exception": false,
     "start_time": "2023-03-15T18:50:15.205251",
     "status": "completed"
    },
    "tags": []
   },
   "outputs": [],
   "source": [
    "# Group data by byValue\n",
    "def grouped(byValue):\n",
    "    groupedBy = df.groupby(byValue).agg({\n",
    "        'Posts': 'sum',\n",
    "        'Followers': 'sum',\n",
    "        'Avg. Likes': 'mean',\n",
    "        'Eng Rate': 'mean',\n",
    "        'Count': 'sum'\n",
    "    }).reset_index()\n",
    "    groupedBy['Avg. Likes'] = groupedBy['Avg. Likes'].round(0)\n",
    "    groupedBy['Eng Rate'] = groupedBy['Eng Rate'].round(2)\n",
    "    return groupedBy"
   ]
  },
  {
   "cell_type": "code",
   "execution_count": 15,
   "id": "4f48b8c2",
   "metadata": {
    "execution": {
     "iopub.execute_input": "2023-03-15T18:50:15.238690Z",
     "iopub.status.busy": "2023-03-15T18:50:15.238355Z",
     "iopub.status.idle": "2023-03-15T18:50:15.257093Z",
     "shell.execute_reply": "2023-03-15T18:50:15.255885Z"
    },
    "papermill": {
     "duration": 0.029272,
     "end_time": "2023-03-15T18:50:15.259234",
     "exception": false,
     "start_time": "2023-03-15T18:50:15.229962",
     "status": "completed"
    },
    "tags": []
   },
   "outputs": [
    {
     "name": "stdout",
     "output_type": "stream",
     "text": [
      "\n",
      " \u001b[1m Group by Channel Info \n",
      "\n"
     ]
    },
    {
     "data": {
      "text/html": [
       "<div>\n",
       "<style scoped>\n",
       "    .dataframe tbody tr th:only-of-type {\n",
       "        vertical-align: middle;\n",
       "    }\n",
       "\n",
       "    .dataframe tbody tr th {\n",
       "        vertical-align: top;\n",
       "    }\n",
       "\n",
       "    .dataframe thead th {\n",
       "        text-align: right;\n",
       "    }\n",
       "</style>\n",
       "<table border=\"1\" class=\"dataframe\">\n",
       "  <thead>\n",
       "    <tr style=\"text-align: right;\">\n",
       "      <th></th>\n",
       "      <th>channel_Info</th>\n",
       "      <th>Posts</th>\n",
       "      <th>Followers</th>\n",
       "      <th>Avg. Likes</th>\n",
       "      <th>Eng Rate</th>\n",
       "      <th>Count</th>\n",
       "    </tr>\n",
       "  </thead>\n",
       "  <tbody>\n",
       "    <tr>\n",
       "      <th>0</th>\n",
       "      <td>brand</td>\n",
       "      <td>142100.0</td>\n",
       "      <td>1.630800e+09</td>\n",
       "      <td>9481.0</td>\n",
       "      <td>0.00</td>\n",
       "      <td>15</td>\n",
       "    </tr>\n",
       "    <tr>\n",
       "      <th>1</th>\n",
       "      <td>community</td>\n",
       "      <td>330600.0</td>\n",
       "      <td>8.101000e+08</td>\n",
       "      <td>25430.0</td>\n",
       "      <td>0.01</td>\n",
       "      <td>13</td>\n",
       "    </tr>\n",
       "    <tr>\n",
       "      <th>2</th>\n",
       "      <td>female</td>\n",
       "      <td>228402.0</td>\n",
       "      <td>6.832300e+09</td>\n",
       "      <td>3086.0</td>\n",
       "      <td>0.02</td>\n",
       "      <td>74</td>\n",
       "    </tr>\n",
       "    <tr>\n",
       "      <th>3</th>\n",
       "      <td>male</td>\n",
       "      <td>420553.0</td>\n",
       "      <td>7.600200e+09</td>\n",
       "      <td>4515.0</td>\n",
       "      <td>0.03</td>\n",
       "      <td>93</td>\n",
       "    </tr>\n",
       "    <tr>\n",
       "      <th>4</th>\n",
       "      <td>misc</td>\n",
       "      <td>1059.0</td>\n",
       "      <td>2.222000e+08</td>\n",
       "      <td>212.0</td>\n",
       "      <td>0.12</td>\n",
       "      <td>5</td>\n",
       "    </tr>\n",
       "  </tbody>\n",
       "</table>\n",
       "</div>"
      ],
      "text/plain": [
       "  channel_Info     Posts     Followers  Avg. Likes  Eng Rate  Count\n",
       "0        brand  142100.0  1.630800e+09      9481.0      0.00     15\n",
       "1    community  330600.0  8.101000e+08     25430.0      0.01     13\n",
       "2       female  228402.0  6.832300e+09      3086.0      0.02     74\n",
       "3         male  420553.0  7.600200e+09      4515.0      0.03     93\n",
       "4         misc    1059.0  2.222000e+08       212.0      0.12      5"
      ]
     },
     "metadata": {},
     "output_type": "display_data"
    }
   ],
   "source": [
    "groupedByChannel = grouped('channel_Info')\n",
    "printBold('Group by Channel Info')\n",
    "display(groupedByChannel)"
   ]
  },
  {
   "cell_type": "code",
   "execution_count": 16,
   "id": "f0948133",
   "metadata": {
    "execution": {
     "iopub.execute_input": "2023-03-15T18:50:15.276191Z",
     "iopub.status.busy": "2023-03-15T18:50:15.275855Z",
     "iopub.status.idle": "2023-03-15T18:50:15.296374Z",
     "shell.execute_reply": "2023-03-15T18:50:15.295306Z"
    },
    "papermill": {
     "duration": 0.031753,
     "end_time": "2023-03-15T18:50:15.298833",
     "exception": false,
     "start_time": "2023-03-15T18:50:15.267080",
     "status": "completed"
    },
    "tags": []
   },
   "outputs": [
    {
     "name": "stdout",
     "output_type": "stream",
     "text": [
      "\n",
      " \u001b[1m \n",
      " Group by Category \n",
      "\n"
     ]
    },
    {
     "data": {
      "text/html": [
       "<div>\n",
       "<style scoped>\n",
       "    .dataframe tbody tr th:only-of-type {\n",
       "        vertical-align: middle;\n",
       "    }\n",
       "\n",
       "    .dataframe tbody tr th {\n",
       "        vertical-align: top;\n",
       "    }\n",
       "\n",
       "    .dataframe thead th {\n",
       "        text-align: right;\n",
       "    }\n",
       "</style>\n",
       "<table border=\"1\" class=\"dataframe\">\n",
       "  <thead>\n",
       "    <tr style=\"text-align: right;\">\n",
       "      <th></th>\n",
       "      <th>Category</th>\n",
       "      <th>Posts</th>\n",
       "      <th>Followers</th>\n",
       "      <th>Avg. Likes</th>\n",
       "      <th>Eng Rate</th>\n",
       "      <th>Count</th>\n",
       "    </tr>\n",
       "  </thead>\n",
       "  <tbody>\n",
       "    <tr>\n",
       "      <th>0</th>\n",
       "      <td>Beauty &amp; Makeup</td>\n",
       "      <td>17600.0</td>\n",
       "      <td>1.474000e+08</td>\n",
       "      <td>5853.0</td>\n",
       "      <td>0.00</td>\n",
       "      <td>3</td>\n",
       "    </tr>\n",
       "    <tr>\n",
       "      <th>1</th>\n",
       "      <td>Craft/DIY</td>\n",
       "      <td>15500.0</td>\n",
       "      <td>4.620000e+07</td>\n",
       "      <td>15480.0</td>\n",
       "      <td>0.00</td>\n",
       "      <td>1</td>\n",
       "    </tr>\n",
       "    <tr>\n",
       "      <th>2</th>\n",
       "      <td>Finance</td>\n",
       "      <td>691.0</td>\n",
       "      <td>5.190000e+07</td>\n",
       "      <td>691.0</td>\n",
       "      <td>0.01</td>\n",
       "      <td>1</td>\n",
       "    </tr>\n",
       "    <tr>\n",
       "      <th>3</th>\n",
       "      <td>Health, Sports &amp; Fitness</td>\n",
       "      <td>369949.0</td>\n",
       "      <td>3.438300e+09</td>\n",
       "      <td>9483.0</td>\n",
       "      <td>0.01</td>\n",
       "      <td>39</td>\n",
       "    </tr>\n",
       "    <tr>\n",
       "      <th>4</th>\n",
       "      <td>Lifestyle</td>\n",
       "      <td>31000.0</td>\n",
       "      <td>5.810000e+07</td>\n",
       "      <td>31040.0</td>\n",
       "      <td>0.00</td>\n",
       "      <td>1</td>\n",
       "    </tr>\n",
       "    <tr>\n",
       "      <th>5</th>\n",
       "      <td>News &amp; Politics</td>\n",
       "      <td>5202.0</td>\n",
       "      <td>1.560000e+08</td>\n",
       "      <td>1744.0</td>\n",
       "      <td>0.02</td>\n",
       "      <td>3</td>\n",
       "    </tr>\n",
       "    <tr>\n",
       "      <th>6</th>\n",
       "      <td>entertainment</td>\n",
       "      <td>546698.0</td>\n",
       "      <td>1.085980e+10</td>\n",
       "      <td>4234.0</td>\n",
       "      <td>0.03</td>\n",
       "      <td>129</td>\n",
       "    </tr>\n",
       "    <tr>\n",
       "      <th>7</th>\n",
       "      <td>fashion</td>\n",
       "      <td>47549.0</td>\n",
       "      <td>5.114000e+08</td>\n",
       "      <td>4756.0</td>\n",
       "      <td>0.03</td>\n",
       "      <td>10</td>\n",
       "    </tr>\n",
       "    <tr>\n",
       "      <th>8</th>\n",
       "      <td>food</td>\n",
       "      <td>12500.0</td>\n",
       "      <td>9.380000e+07</td>\n",
       "      <td>6260.0</td>\n",
       "      <td>0.01</td>\n",
       "      <td>2</td>\n",
       "    </tr>\n",
       "    <tr>\n",
       "      <th>9</th>\n",
       "      <td>misc</td>\n",
       "      <td>29325.0</td>\n",
       "      <td>9.844000e+08</td>\n",
       "      <td>4189.0</td>\n",
       "      <td>0.10</td>\n",
       "      <td>7</td>\n",
       "    </tr>\n",
       "    <tr>\n",
       "      <th>10</th>\n",
       "      <td>photography</td>\n",
       "      <td>24500.0</td>\n",
       "      <td>6.261000e+08</td>\n",
       "      <td>12275.0</td>\n",
       "      <td>0.00</td>\n",
       "      <td>2</td>\n",
       "    </tr>\n",
       "    <tr>\n",
       "      <th>11</th>\n",
       "      <td>technology</td>\n",
       "      <td>22200.0</td>\n",
       "      <td>1.222000e+08</td>\n",
       "      <td>11085.0</td>\n",
       "      <td>0.01</td>\n",
       "      <td>2</td>\n",
       "    </tr>\n",
       "  </tbody>\n",
       "</table>\n",
       "</div>"
      ],
      "text/plain": [
       "                    Category     Posts     Followers  Avg. Likes  Eng Rate   \n",
       "0            Beauty & Makeup   17600.0  1.474000e+08      5853.0      0.00  \\\n",
       "1                  Craft/DIY   15500.0  4.620000e+07     15480.0      0.00   \n",
       "2                    Finance     691.0  5.190000e+07       691.0      0.01   \n",
       "3   Health, Sports & Fitness  369949.0  3.438300e+09      9483.0      0.01   \n",
       "4                  Lifestyle   31000.0  5.810000e+07     31040.0      0.00   \n",
       "5            News & Politics    5202.0  1.560000e+08      1744.0      0.02   \n",
       "6              entertainment  546698.0  1.085980e+10      4234.0      0.03   \n",
       "7                    fashion   47549.0  5.114000e+08      4756.0      0.03   \n",
       "8                       food   12500.0  9.380000e+07      6260.0      0.01   \n",
       "9                       misc   29325.0  9.844000e+08      4189.0      0.10   \n",
       "10               photography   24500.0  6.261000e+08     12275.0      0.00   \n",
       "11                technology   22200.0  1.222000e+08     11085.0      0.01   \n",
       "\n",
       "    Count  \n",
       "0       3  \n",
       "1       1  \n",
       "2       1  \n",
       "3      39  \n",
       "4       1  \n",
       "5       3  \n",
       "6     129  \n",
       "7      10  \n",
       "8       2  \n",
       "9       7  \n",
       "10      2  \n",
       "11      2  "
      ]
     },
     "metadata": {},
     "output_type": "display_data"
    }
   ],
   "source": [
    "printBold(\"\\n Group by Category\")\n",
    "groupedByCategory = grouped('Category')\n",
    "display(groupedByCategory)"
   ]
  },
  {
   "cell_type": "markdown",
   "id": "09f10bbe",
   "metadata": {
    "papermill": {
     "duration": 0.007343,
     "end_time": "2023-03-15T18:50:15.314598",
     "exception": false,
     "start_time": "2023-03-15T18:50:15.307255",
     "status": "completed"
    },
    "tags": []
   },
   "source": [
    "### *Analyzing Data for Actionable Results*\n",
    "In this section, we're going to use different techniques and tools to extract insights and valuable information from our data. Our goal is to make informed decisions and take action based on the analysis we've done. By analyzing our data thoroughly, we can find patterns, trends, and relationships that we might not have known existed. This will help us make better decisions and achieve our goals more effectively."
   ]
  },
  {
   "cell_type": "code",
   "execution_count": 17,
   "id": "5223974e",
   "metadata": {
    "execution": {
     "iopub.execute_input": "2023-03-15T18:50:15.331633Z",
     "iopub.status.busy": "2023-03-15T18:50:15.331273Z",
     "iopub.status.idle": "2023-03-15T18:50:15.337680Z",
     "shell.execute_reply": "2023-03-15T18:50:15.336157Z"
    },
    "papermill": {
     "duration": 0.017691,
     "end_time": "2023-03-15T18:50:15.340007",
     "exception": false,
     "start_time": "2023-03-15T18:50:15.322316",
     "status": "completed"
    },
    "tags": []
   },
   "outputs": [],
   "source": [
    "def format_value(num):\n",
    "    if num >= 1000000:\n",
    "        return f\"{num/1000000:.2f}M\"\n",
    "    elif num >= 1000:\n",
    "        return f\"{num/1000:.2f}K\"\n",
    "    else:\n",
    "        return str(num)\n",
    "    \n",
    "def format_y_axis_label(value, _):\n",
    "    return format_value(value)"
   ]
  },
  {
   "cell_type": "code",
   "execution_count": 18,
   "id": "fe2abd57",
   "metadata": {
    "execution": {
     "iopub.execute_input": "2023-03-15T18:50:15.357279Z",
     "iopub.status.busy": "2023-03-15T18:50:15.356952Z",
     "iopub.status.idle": "2023-03-15T18:50:15.364975Z",
     "shell.execute_reply": "2023-03-15T18:50:15.363747Z"
    },
    "papermill": {
     "duration": 0.019203,
     "end_time": "2023-03-15T18:50:15.367052",
     "exception": false,
     "start_time": "2023-03-15T18:50:15.347849",
     "status": "completed"
    },
    "tags": []
   },
   "outputs": [],
   "source": [
    "def get_largest_values(dfSet, colFrom, colName):\n",
    "    top_two = dfSet.nlargest(2, colFrom)\n",
    "    first_val = top_two.iloc[0]\n",
    "    second_val = top_two.iloc[1]\n",
    "    total = dfSet[colFrom].sum()\n",
    "    first_percent = round(first_val[colFrom] / total * 100, 2)\n",
    "    second_percent = round(second_val[colFrom] / total * 100, 2)\n",
    "    \n",
    "    output1 = 'Highest number of ' + colFrom.lower() + ' are from ' + first_val[colName] + ': ' + str(format_value(first_val[colFrom])) + ' (' + str(first_percent) + '%)'\n",
    "    output2 = ' followed by ' + second_val[colName] + ': ' + str(format_value(second_val[colFrom])) + ' (' + str(second_percent) + '%)'\n",
    "    output = output1 + output2\n",
    "    return output"
   ]
  },
  {
   "cell_type": "code",
   "execution_count": 19,
   "id": "8b8b43a2",
   "metadata": {
    "execution": {
     "iopub.execute_input": "2023-03-15T18:50:15.384057Z",
     "iopub.status.busy": "2023-03-15T18:50:15.383723Z",
     "iopub.status.idle": "2023-03-15T18:50:15.391582Z",
     "shell.execute_reply": "2023-03-15T18:50:15.390084Z"
    },
    "papermill": {
     "duration": 0.018885,
     "end_time": "2023-03-15T18:50:15.393638",
     "exception": false,
     "start_time": "2023-03-15T18:50:15.374753",
     "status": "completed"
    },
    "tags": []
   },
   "outputs": [],
   "source": [
    "def plotBarGraph(dfSet,x_axis, y_axis,title,x_label, y_label,rotateX, color):\n",
    "    # Create bar chart of total followers by channel_Info\n",
    "    plt.bar(dfSet[x_axis], dfSet[y_axis], color=color)\n",
    "    plt.title(title)\n",
    "    plt.xlabel(x_label)\n",
    "    plt.ylabel(y_label)\n",
    "    plt.xticks(rotation=rotateX)\n",
    "    plt.gca().yaxis.set_major_formatter(ticker.FuncFormatter(format_y_axis_label))\n",
    "    plt.show()"
   ]
  },
  {
   "cell_type": "code",
   "execution_count": 20,
   "id": "13147291",
   "metadata": {
    "execution": {
     "iopub.execute_input": "2023-03-15T18:50:15.410996Z",
     "iopub.status.busy": "2023-03-15T18:50:15.410649Z",
     "iopub.status.idle": "2023-03-15T18:50:15.709394Z",
     "shell.execute_reply": "2023-03-15T18:50:15.707628Z"
    },
    "papermill": {
     "duration": 0.310557,
     "end_time": "2023-03-15T18:50:15.712240",
     "exception": false,
     "start_time": "2023-03-15T18:50:15.401683",
     "status": "completed"
    },
    "tags": []
   },
   "outputs": [
    {
     "data": {
      "image/png": "[encoded data removed]",
      "text/plain": [
       "<Figure size 640x480 with 1 Axes>"
      ]
     },
     "metadata": {},
     "output_type": "display_data"
    },
    {
     "name": "stdout",
     "output_type": "stream",
     "text": [
      "\n",
      " \u001b[1m Highest number of followers are from male: 7600.20M (44.46%) followed by female: 6832.30M (39.97%)\n",
      "\n",
      "\n",
      " \n",
      "\n"
     ]
    },
    {
     "data": {
      "image/png": "[encoded data removed]",
      "text/plain": [
       "<Figure size 640x480 with 1 Axes>"
      ]
     },
     "metadata": {},
     "output_type": "display_data"
    },
    {
     "name": "stdout",
     "output_type": "stream",
     "text": [
      "\n",
      " \u001b[1m Highest number of avg. likes are from community: 25.43K (59.52%) followed by brand: 9.48K (22.19%)\n",
      " \n",
      "\n"
     ]
    }
   ],
   "source": [
    "#plotting graphs for channels\n",
    "\n",
    "plotBarGraph(\n",
    "    dfSet=groupedByChannel, \n",
    "    x_axis='channel_Info', \n",
    "    y_axis='Followers', \n",
    "    title='Total Followers by Channel Info', \n",
    "    x_label='Channel Info', \n",
    "    y_label='Total Followers',\n",
    "    rotateX=0,\n",
    "    color= 'cornflowerblue',\n",
    "    )\n",
    "\n",
    "printBold(get_largest_values(groupedByChannel,\"Followers\", \"channel_Info\")+\"\\n\\n\\n\")\n",
    "\n",
    "plotBarGraph(\n",
    "    dfSet=groupedByChannel, \n",
    "    x_axis='channel_Info', \n",
    "    y_axis='Avg. Likes', \n",
    "    title='Avg. Likes by Channel Info', \n",
    "    x_label='Channel Info', \n",
    "    y_label='Avg. Likes',\n",
    "    rotateX=0,\n",
    "    color='mediumseagreen'\n",
    "    )\n",
    "\n",
    "printBold(get_largest_values(groupedByChannel,\"Avg. Likes\", \"channel_Info\")+\"\\n\")"
   ]
  },
  {
   "cell_type": "code",
   "execution_count": 21,
   "id": "0fa1b13d",
   "metadata": {
    "execution": {
     "iopub.execute_input": "2023-03-15T18:50:15.735866Z",
     "iopub.status.busy": "2023-03-15T18:50:15.734711Z",
     "iopub.status.idle": "2023-03-15T18:50:16.124535Z",
     "shell.execute_reply": "2023-03-15T18:50:16.123469Z"
    },
    "papermill": {
     "duration": 0.403642,
     "end_time": "2023-03-15T18:50:16.126905",
     "exception": false,
     "start_time": "2023-03-15T18:50:15.723263",
     "status": "completed"
    },
    "tags": []
   },
   "outputs": [
    {
     "data": {
      "image/png": "[encoded data removed]",
      "text/plain": [
       "<Figure size 640x480 with 1 Axes>"
      ]
     },
     "metadata": {},
     "output_type": "display_data"
    },
    {
     "name": "stdout",
     "output_type": "stream",
     "text": [
      "\n",
      " \u001b[1m Highest number of followers are from entertainment: 10859.80M (63.52%) followed by Health, Sports & Fitness: 3438.30M (20.11%)\n",
      "\n",
      "\n",
      " \n",
      "\n"
     ]
    },
    {
     "data": {
      "image/png": "[encoded data removed]",
      "text/plain": [
       "<Figure size 640x480 with 1 Axes>"
      ]
     },
     "metadata": {},
     "output_type": "display_data"
    },
    {
     "name": "stdout",
     "output_type": "stream",
     "text": [
      "\n",
      " \u001b[1m Highest number of avg. likes are from Lifestyle: 31.04K (28.98%) followed by Craft/DIY: 15.48K (14.46%)\n",
      " \n",
      "\n"
     ]
    }
   ],
   "source": [
    "#plotting graphs for categories\n",
    "\n",
    "plotBarGraph(\n",
    "    dfSet=groupedByCategory,\n",
    "    x_axis='Category',\n",
    "    y_axis='Followers',\n",
    "    title='Total Followers by Categories',\n",
    "    x_label='Categories',\n",
    "    y_label='Total Followers',\n",
    "    rotateX=90,\n",
    "    color='lightcoral'\n",
    "    )\n",
    "\n",
    "printBold(get_largest_values(groupedByCategory,\"Followers\", \"Category\")+\"\\n\\n\\n\")\n",
    "\n",
    "plotBarGraph(\n",
    "    dfSet=groupedByCategory,\n",
    "    x_axis='Category',\n",
    "    y_axis='Avg. Likes',\n",
    "    title='Avg. Likes by Categories',\n",
    "    x_label='Categories',\n",
    "    y_label='Avg. Likes',\n",
    "    rotateX=90,\n",
    "    color='mediumseagreen'\n",
    "    )\n",
    "\n",
    "printBold(get_largest_values(groupedByCategory,\"Avg. Likes\", \"Category\")+\"\\n\")"
   ]
  },
  {
   "cell_type": "code",
   "execution_count": 23,
   "id": "d4c3d42d",
   "metadata": {
    "execution": {
     "iopub.execute_input": "2023-03-15T18:50:16.148368Z",
     "iopub.status.busy": "2023-03-15T18:50:16.148001Z",
     "iopub.status.idle": "2023-03-15T18:50:16.155349Z",
     "shell.execute_reply": "2023-03-15T18:50:16.153887Z"
    },
    "papermill": {
     "duration": 0.021405,
     "end_time": "2023-03-15T18:50:16.158181",
     "exception": false,
     "start_time": "2023-03-15T18:50:16.136776",
     "status": "completed"
    },
    "tags": []
   },
   "outputs": [],
   "source": [
    "#scatter graph\n",
    "def plotScatterGraph(dfSet,x_axis, y_axis,title,x_label, y_label, color):\n",
    "    \n",
    "    fig, ax = plt.subplots()\n",
    "    ax.scatter(df[x_axis], df[y_axis], c=color)\n",
    "\n",
    "    ax.set_xlabel(x_label)\n",
    "    ax.set_ylabel(y_label)\n",
    "    ax.set_title(title)\n",
    "    ax.yaxis.set_major_formatter(ticker.FuncFormatter(format_y_axis_label))\n",
    "    ax.xaxis.set_major_formatter(ticker.FuncFormatter(format_y_axis_label))"
   ]
  },
  {
   "cell_type": "code",
   "execution_count": 24,
   "id": "5c4e7e5a",
   "metadata": {
    "execution": {
     "iopub.execute_input": "2023-03-15T18:50:16.179477Z",
     "iopub.status.busy": "2023-03-15T18:50:16.179113Z",
     "iopub.status.idle": "2023-03-15T18:50:16.354834Z",
     "shell.execute_reply": "2023-03-15T18:50:16.354090Z"
    },
    "papermill": {
     "duration": 0.188745,
     "end_time": "2023-03-15T18:50:16.356753",
     "exception": false,
     "start_time": "2023-03-15T18:50:16.168008",
     "status": "completed"
    },
    "tags": []
   },
   "outputs": [
    {
     "data": {
      "image/png": "[encoded data removed]",
      "text/plain": [
       "<Figure size 640x480 with 1 Axes>"
      ]
     },
     "metadata": {},
     "output_type": "display_data"
    }
   ],
   "source": [
    "#Finding relationship\n",
    "\n",
    "plotScatterGraph(\n",
    "    dfSet=df, \n",
    "    x_axis='Followers', \n",
    "    y_axis='Avg. Likes', \n",
    "    title='Avg. Likes vs Followers', \n",
    "    x_label='Followers', \n",
    "    y_label='Avg. Likes',\n",
    "    color = 'palevioletred'\n",
    "    )"
   ]
  },
  {
   "cell_type": "code",
   "execution_count": 25,
   "id": "fb16fa4d",
   "metadata": {
    "execution": {
     "iopub.execute_input": "2023-03-15T18:50:16.379348Z",
     "iopub.status.busy": "2023-03-15T18:50:16.379015Z",
     "iopub.status.idle": "2023-03-15T18:50:16.384702Z",
     "shell.execute_reply": "2023-03-15T18:50:16.383308Z"
    },
    "papermill": {
     "duration": 0.020074,
     "end_time": "2023-03-15T18:50:16.387285",
     "exception": false,
     "start_time": "2023-03-15T18:50:16.367211",
     "status": "completed"
    },
    "tags": []
   },
   "outputs": [],
   "source": [
    "#heatmap to find relation ships\n",
    "def heatmap(vals, colors, title):\n",
    "    pivot_df = df.pivot_table(index='Category', columns='channel_Info', values=vals)\n",
    "\n",
    "    # Create the heatmap with data labels\n",
    "    sns.heatmap(pivot_df, \n",
    "        annot=False, \n",
    "        fmt='', \n",
    "        cmap=colors, \n",
    "        linewidth=.5)\n",
    "    \n",
    "    #sns.color_palette(colors)\n",
    "    plt.title(title)\n",
    "    plt.show()\n"
   ]
  },
  {
   "cell_type": "code",
   "execution_count": 26,
   "id": "14e306b9",
   "metadata": {
    "execution": {
     "iopub.execute_input": "2023-03-15T18:50:16.409423Z",
     "iopub.status.busy": "2023-03-15T18:50:16.409039Z",
     "iopub.status.idle": "2023-03-15T18:50:16.675991Z",
     "shell.execute_reply": "2023-03-15T18:50:16.674545Z"
    },
    "papermill": {
     "duration": 0.281215,
     "end_time": "2023-03-15T18:50:16.678654",
     "exception": false,
     "start_time": "2023-03-15T18:50:16.397439",
     "status": "completed"
    },
    "tags": []
   },
   "outputs": [
    {
     "data": {
      "image/png": "[encoded data removed]",
      "text/plain": [
       "<Figure size 640x480 with 2 Axes>"
      ]
     },
     "metadata": {},
     "output_type": "display_data"
    }
   ],
   "source": [
    "heatmap('Followers','Oranges', 'Relationship According to Followers' )"
   ]
  },
  {
   "cell_type": "code",
   "execution_count": 27,
   "id": "900c3f9c",
   "metadata": {
    "execution": {
     "iopub.execute_input": "2023-03-15T18:50:16.702170Z",
     "iopub.status.busy": "2023-03-15T18:50:16.701809Z",
     "iopub.status.idle": "2023-03-15T18:50:16.962708Z",
     "shell.execute_reply": "2023-03-15T18:50:16.961462Z"
    },
    "papermill": {
     "duration": 0.274831,
     "end_time": "2023-03-15T18:50:16.964666",
     "exception": false,
     "start_time": "2023-03-15T18:50:16.689835",
     "status": "completed"
    },
    "tags": []
   },
   "outputs": [
    {
     "data": {
      "image/png": "[encoded data removed]",
      "text/plain": [
       "<Figure size 640x480 with 2 Axes>"
      ]
     },
     "metadata": {},
     "output_type": "display_data"
    }
   ],
   "source": [
    "heatmap('Posts', 'Greens', 'Relationship According to Posts')"
   ]
  },
  {
   "cell_type": "markdown",
   "id": "2ed85e35",
   "metadata": {
    "papermill": {
     "duration": 0.011088,
     "end_time": "2023-03-15T18:50:16.986858",
     "exception": false,
     "start_time": "2023-03-15T18:50:16.975770",
     "status": "completed"
    },
    "tags": []
   },
   "source": [
    "### *Finding top influencer in each group*\n",
    "In this section, we will identify the top influencer within each subset of our data by grouping them based on common attributes such as category and channel type. By doing so, we can understand who are the key players within each category and channel type, and use this information to make informed decisions and take action."
   ]
  },
  {
   "cell_type": "code",
   "execution_count": 29,
   "id": "7d39577b",
   "metadata": {
    "execution": {
     "iopub.execute_input": "2023-03-15T18:50:17.011228Z",
     "iopub.status.busy": "2023-03-15T18:50:17.010903Z",
     "iopub.status.idle": "2023-03-15T18:50:17.018921Z",
     "shell.execute_reply": "2023-03-15T18:50:17.017467Z"
    },
    "papermill": {
     "duration": 0.022791,
     "end_time": "2023-03-15T18:50:17.020879",
     "exception": false,
     "start_time": "2023-03-15T18:50:16.998088",
     "status": "completed"
    },
    "tags": []
   },
   "outputs": [],
   "source": [
    "def find_top_influencers(df, groupBy):\n",
    "    df_grouped = df.groupby(groupBy)\n",
    "\n",
    "    top_influencers = []\n",
    "\n",
    "    for group_name, group in df_grouped:\n",
    "        top_influencers_df = group.loc[group['Followers'].idxmax(), ['name', groupBy, 'rank', 'Posts', 'Followers', 'Avg. Likes']]\n",
    "        top_influencers.append(top_influencers_df)\n",
    "\n",
    "    top_influencers = pd.DataFrame(top_influencers)\n",
    "    \n",
    "    top_influencers = top_influencers[['name', groupBy, 'rank', 'Posts', 'Followers', 'Avg. Likes']]\n",
    "    top_influencers['Posts'] = top_influencers['Posts'].apply(format_value)\n",
    "    top_influencers['Followers'] = top_influencers['Followers'].apply(format_value)\n",
    "    top_influencers['Avg. Likes'] = top_influencers['Avg. Likes'].apply(format_value)\n",
    "    \n",
    "    top_influencers = top_influencers.sort_values(by='rank', ascending=True)\n",
    "\n",
    "    return top_influencers\n"
   ]
  },
  {
   "cell_type": "code",
   "execution_count": 30,
   "id": "0ca32a8e",
   "metadata": {
    "execution": {
     "iopub.execute_input": "2023-03-15T18:50:17.046319Z",
     "iopub.status.busy": "2023-03-15T18:50:17.045094Z",
     "iopub.status.idle": "2023-03-15T18:50:17.072792Z",
     "shell.execute_reply": "2023-03-15T18:50:17.071460Z"
    },
    "papermill": {
     "duration": 0.042454,
     "end_time": "2023-03-15T18:50:17.075157",
     "exception": false,
     "start_time": "2023-03-15T18:50:17.032703",
     "status": "completed"
    },
    "tags": []
   },
   "outputs": [
    {
     "name": "stdout",
     "output_type": "stream",
     "text": [
      "\n",
      " \u001b[1m Top influencers in each category \n",
      "\n"
     ]
    },
    {
     "data": {
      "text/html": [
       "<div>\n",
       "<style scoped>\n",
       "    .dataframe tbody tr th:only-of-type {\n",
       "        vertical-align: middle;\n",
       "    }\n",
       "\n",
       "    .dataframe tbody tr th {\n",
       "        vertical-align: top;\n",
       "    }\n",
       "\n",
       "    .dataframe thead th {\n",
       "        text-align: right;\n",
       "    }\n",
       "</style>\n",
       "<table border=\"1\" class=\"dataframe\">\n",
       "  <thead>\n",
       "    <tr style=\"text-align: right;\">\n",
       "      <th></th>\n",
       "      <th>name</th>\n",
       "      <th>Category</th>\n",
       "      <th>rank</th>\n",
       "      <th>Posts</th>\n",
       "      <th>Followers</th>\n",
       "      <th>Avg. Likes</th>\n",
       "    </tr>\n",
       "  </thead>\n",
       "  <tbody>\n",
       "    <tr>\n",
       "      <th>0</th>\n",
       "      <td>instagram</td>\n",
       "      <td>photography</td>\n",
       "      <td>1</td>\n",
       "      <td>7.30K</td>\n",
       "      <td>580.10M</td>\n",
       "      <td>7.31K</td>\n",
       "    </tr>\n",
       "    <tr>\n",
       "      <th>1</th>\n",
       "      <td>cristiano</td>\n",
       "      <td>Health, Sports &amp; Fitness</td>\n",
       "      <td>2</td>\n",
       "      <td>3.40K</td>\n",
       "      <td>519.90M</td>\n",
       "      <td>3.41K</td>\n",
       "    </tr>\n",
       "    <tr>\n",
       "      <th>3</th>\n",
       "      <td>kyliejenner</td>\n",
       "      <td>entertainment</td>\n",
       "      <td>4</td>\n",
       "      <td>7.00K</td>\n",
       "      <td>375.90M</td>\n",
       "      <td>7.02K</td>\n",
       "    </tr>\n",
       "    <tr>\n",
       "      <th>14</th>\n",
       "      <td>virat.kohli</td>\n",
       "      <td>misc</td>\n",
       "      <td>15</td>\n",
       "      <td>1.50K</td>\n",
       "      <td>228.00M</td>\n",
       "      <td>1.48K</td>\n",
       "    </tr>\n",
       "    <tr>\n",
       "      <th>40</th>\n",
       "      <td>nasa</td>\n",
       "      <td>technology</td>\n",
       "      <td>41</td>\n",
       "      <td>3.70K</td>\n",
       "      <td>85.80M</td>\n",
       "      <td>3.69K</td>\n",
       "    </tr>\n",
       "    <tr>\n",
       "      <th>48</th>\n",
       "      <td>gigihadid</td>\n",
       "      <td>fashion</td>\n",
       "      <td>49</td>\n",
       "      <td>3.30K</td>\n",
       "      <td>76.40M</td>\n",
       "      <td>3.29K</td>\n",
       "    </tr>\n",
       "    <tr>\n",
       "      <th>56</th>\n",
       "      <td>narendramodi</td>\n",
       "      <td>News &amp; Politics</td>\n",
       "      <td>57</td>\n",
       "      <td>559.0</td>\n",
       "      <td>70.90M</td>\n",
       "      <td>559.0</td>\n",
       "    </tr>\n",
       "    <tr>\n",
       "      <th>82</th>\n",
       "      <td>9gag</td>\n",
       "      <td>Lifestyle</td>\n",
       "      <td>83</td>\n",
       "      <td>31.00K</td>\n",
       "      <td>58.10M</td>\n",
       "      <td>31.04K</td>\n",
       "    </tr>\n",
       "    <tr>\n",
       "      <th>101</th>\n",
       "      <td>chanelofficial</td>\n",
       "      <td>Beauty &amp; Makeup</td>\n",
       "      <td>102</td>\n",
       "      <td>5.10K</td>\n",
       "      <td>53.50M</td>\n",
       "      <td>5.11K</td>\n",
       "    </tr>\n",
       "    <tr>\n",
       "      <th>104</th>\n",
       "      <td>michelleobama</td>\n",
       "      <td>Finance</td>\n",
       "      <td>105</td>\n",
       "      <td>691.0</td>\n",
       "      <td>51.90M</td>\n",
       "      <td>691.0</td>\n",
       "    </tr>\n",
       "    <tr>\n",
       "      <th>114</th>\n",
       "      <td>nusr_et</td>\n",
       "      <td>food</td>\n",
       "      <td>115</td>\n",
       "      <td>2.40K</td>\n",
       "      <td>49.90M</td>\n",
       "      <td>2.40K</td>\n",
       "    </tr>\n",
       "    <tr>\n",
       "      <th>131</th>\n",
       "      <td>5.min.crafts</td>\n",
       "      <td>Craft/DIY</td>\n",
       "      <td>132</td>\n",
       "      <td>15.50K</td>\n",
       "      <td>46.20M</td>\n",
       "      <td>15.48K</td>\n",
       "    </tr>\n",
       "  </tbody>\n",
       "</table>\n",
       "</div>"
      ],
      "text/plain": [
       "               name                  Category  rank   Posts Followers   \n",
       "0         instagram               photography     1   7.30K   580.10M  \\\n",
       "1         cristiano  Health, Sports & Fitness     2   3.40K   519.90M   \n",
       "3       kyliejenner             entertainment     4   7.00K   375.90M   \n",
       "14      virat.kohli                      misc    15   1.50K   228.00M   \n",
       "40             nasa                technology    41   3.70K    85.80M   \n",
       "48        gigihadid                   fashion    49   3.30K    76.40M   \n",
       "56     narendramodi           News & Politics    57   559.0    70.90M   \n",
       "82             9gag                 Lifestyle    83  31.00K    58.10M   \n",
       "101  chanelofficial           Beauty & Makeup   102   5.10K    53.50M   \n",
       "104   michelleobama                   Finance   105   691.0    51.90M   \n",
       "114         nusr_et                      food   115   2.40K    49.90M   \n",
       "131    5.min.crafts                 Craft/DIY   132  15.50K    46.20M   \n",
       "\n",
       "    Avg. Likes  \n",
       "0        7.31K  \n",
       "1        3.41K  \n",
       "3        7.02K  \n",
       "14       1.48K  \n",
       "40       3.69K  \n",
       "48       3.29K  \n",
       "56       559.0  \n",
       "82      31.04K  \n",
       "101      5.11K  \n",
       "104      691.0  \n",
       "114      2.40K  \n",
       "131     15.48K  "
      ]
     },
     "execution_count": 30,
     "metadata": {},
     "output_type": "execute_result"
    }
   ],
   "source": [
    "#Top influencers in each category\n",
    "printBold('Top influencers in each category')\n",
    "find_top_influencers(df, \"Category\")"
   ]
  },
  {
   "cell_type": "code",
   "execution_count": 31,
   "id": "c2623e6c",
   "metadata": {
    "execution": {
     "iopub.execute_input": "2023-03-15T18:50:17.101831Z",
     "iopub.status.busy": "2023-03-15T18:50:17.100439Z",
     "iopub.status.idle": "2023-03-15T18:50:17.122796Z",
     "shell.execute_reply": "2023-03-15T18:50:17.121275Z"
    },
    "papermill": {
     "duration": 0.038996,
     "end_time": "2023-03-15T18:50:17.126244",
     "exception": false,
     "start_time": "2023-03-15T18:50:17.087248",
     "status": "completed"
    },
    "tags": []
   },
   "outputs": [
    {
     "name": "stdout",
     "output_type": "stream",
     "text": [
      "\n",
      " \u001b[1m Top influencers in each channel \n",
      "\n"
     ]
    },
    {
     "data": {
      "text/html": [
       "<div>\n",
       "<style scoped>\n",
       "    .dataframe tbody tr th:only-of-type {\n",
       "        vertical-align: middle;\n",
       "    }\n",
       "\n",
       "    .dataframe tbody tr th {\n",
       "        vertical-align: top;\n",
       "    }\n",
       "\n",
       "    .dataframe thead th {\n",
       "        text-align: right;\n",
       "    }\n",
       "</style>\n",
       "<table border=\"1\" class=\"dataframe\">\n",
       "  <thead>\n",
       "    <tr style=\"text-align: right;\">\n",
       "      <th></th>\n",
       "      <th>name</th>\n",
       "      <th>channel_Info</th>\n",
       "      <th>rank</th>\n",
       "      <th>Posts</th>\n",
       "      <th>Followers</th>\n",
       "      <th>Avg. Likes</th>\n",
       "    </tr>\n",
       "  </thead>\n",
       "  <tbody>\n",
       "    <tr>\n",
       "      <th>0</th>\n",
       "      <td>instagram</td>\n",
       "      <td>brand</td>\n",
       "      <td>1</td>\n",
       "      <td>7.30K</td>\n",
       "      <td>580.10M</td>\n",
       "      <td>7.31K</td>\n",
       "    </tr>\n",
       "    <tr>\n",
       "      <th>1</th>\n",
       "      <td>cristiano</td>\n",
       "      <td>male</td>\n",
       "      <td>2</td>\n",
       "      <td>3.40K</td>\n",
       "      <td>519.90M</td>\n",
       "      <td>3.41K</td>\n",
       "    </tr>\n",
       "    <tr>\n",
       "      <th>3</th>\n",
       "      <td>kyliejenner</td>\n",
       "      <td>female</td>\n",
       "      <td>4</td>\n",
       "      <td>7.00K</td>\n",
       "      <td>375.90M</td>\n",
       "      <td>7.02K</td>\n",
       "    </tr>\n",
       "    <tr>\n",
       "      <th>33</th>\n",
       "      <td>realmadrid</td>\n",
       "      <td>community</td>\n",
       "      <td>34</td>\n",
       "      <td>6.50K</td>\n",
       "      <td>120.90M</td>\n",
       "      <td>6.53K</td>\n",
       "    </tr>\n",
       "    <tr>\n",
       "      <th>104</th>\n",
       "      <td>michelleobama</td>\n",
       "      <td>misc</td>\n",
       "      <td>105</td>\n",
       "      <td>691.0</td>\n",
       "      <td>51.90M</td>\n",
       "      <td>691.0</td>\n",
       "    </tr>\n",
       "  </tbody>\n",
       "</table>\n",
       "</div>"
      ],
      "text/plain": [
       "              name channel_Info  rank  Posts Followers Avg. Likes\n",
       "0        instagram        brand     1  7.30K   580.10M      7.31K\n",
       "1        cristiano         male     2  3.40K   519.90M      3.41K\n",
       "3      kyliejenner       female     4  7.00K   375.90M      7.02K\n",
       "33      realmadrid    community    34  6.50K   120.90M      6.53K\n",
       "104  michelleobama         misc   105  691.0    51.90M      691.0"
      ]
     },
     "execution_count": 31,
     "metadata": {},
     "output_type": "execute_result"
    }
   ],
   "source": [
    "#Top influencers in each channel\n",
    "printBold('Top influencers in each channel')\n",
    "find_top_influencers(df, \"channel_Info\")"
   ]
  },
  {
   "cell_type": "markdown",
   "id": "60fd6b50",
   "metadata": {
    "papermill": {
     "duration": 0.011417,
     "end_time": "2023-03-15T18:50:17.149450",
     "exception": false,
     "start_time": "2023-03-15T18:50:17.138033",
     "status": "completed"
    },
    "tags": []
   },
   "source": [
    "### Key Points Summary\n",
    "\n",
    "The top 5 Instagram influencers include Instagram, Cristiano Ronaldo, Leo Messi, and Kylie Jenner, Selenagomez.\n",
    "\n",
    "The dataset provides information on the rank, name, channel information, category, posts, followers, average likes, engagement rate, and count for each influencer.\n",
    "\n",
    "Instagram is a brand account, while the other four influencers are individuals with a male or female gender.\n",
    "\n",
    "The top two influencers (male), Cristiano Ronaldo and Leo Messi, are both in the Health, Sports & Fitness category, while Kylie Jenner and Selenagomez (female) is in the entertainment category.\n",
    "\n",
    "The number of posts varies widely among the influencers, ranging from 1k to 101K.\n",
    "\n",
    "The follower count for each influencer is in the hundreds of millions.\n",
    "\n",
    "Engagement rates also vary, with some influencers having rates as low as 0.1% and others as high as 26.6%.\n",
    "\n",
    "\n",
    "### Categories and Channels \n",
    "\n",
    "One of the key insights that can be gained from this dataset is the most popular categories and channels on Instagram. By examining the data, we can see that the Health, Sports & Fitness category is a popular one in non brand, with two of the top five influencers belonging to this category. Additionally, the entertainment category is also popular, with Kylie Jenner being a top influencer in this category.\n",
    "\n",
    "### Follower Counts\n",
    "\n",
    "Another important factor to consider when analyzing Instagram influencers is their follower count. The four influencers in this dataset have a combined follower count of over 17 billion, with Instagram having the most followers at 580 million. Having a large follower count is essential for influencers since it allows them to reach a vast audience and promote products to a broad customer base.\n",
    "\n",
    "### Engagement Rates\n",
    "While follower count is essential, engagement rates are also a crucial factor to consider when analyzing Instagram influencers. Engagement rates measure the level of interaction between the influencer and their audience, and can be a useful metric for businesses looking to work with influencers. In this dataset, we can see that engagement rates vary widely, ranging from 0.1% to 26.6%.\n",
    "\n",
    "### Conclusion\n",
    "Overall, this dataset provides valuable insights into the top Instagram influencers, their categories, follower counts, and engagement rates. By analyzing this information, we can gain a better understanding of the factors that contribute to their success on the platform. Businesses looking to work with influencers can use this data to identify the most popular categories and channels, as well as to select influencers with high follower counts and engagement rates."
   ]
  }
 ],
 "metadata": {
  "kernelspec": {
   "display_name": "Python 3",
   "language": "python",
   "name": "python3"
  },
  "language_info": {
   "codemirror_mode": {
    "name": "ipython",
    "version": 3
   },
   "file_extension": ".py",
   "mimetype": "text/x-python",
   "name": "python",
   "nbconvert_exporter": "python",
   "pygments_lexer": "ipython3",
   "version": "3.9.15"
  },
  "papermill": {
   "default_parameters": {},
   "duration": 12.987689,
   "end_time": "2023-03-15T18:50:17.883206",
   "environment_variables": {},
   "exception": null,
   "input_path": "__notebook__.ipynb",
   "output_path": "__notebook__.ipynb",
   "parameters": {},
   "start_time": "2023-03-15T18:50:04.895517",
   "version": "2.4.0"
  }
 },
 "nbformat": 4,
 "nbformat_minor": 5
}
